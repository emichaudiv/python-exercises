{
 "cells": [
  {
   "cell_type": "code",
   "execution_count": 1,
   "id": "f3b3c049",
   "metadata": {},
   "outputs": [
    {
     "data": {
      "text/plain": [
       "8"
      ]
     },
     "execution_count": 1,
     "metadata": {},
     "output_type": "execute_result"
    }
   ],
   "source": [
    "3+5"
   ]
  },
  {
   "cell_type": "markdown",
   "id": "d1a62ac0",
   "metadata": {},
   "source": [
    "# This is Mark down\n",
    "#### Heading\n",
    "-1\n",
    "-2"
   ]
  },
  {
   "cell_type": "code",
   "execution_count": null,
   "id": "164aefb5",
   "metadata": {},
   "outputs": [],
   "source": [
    "#New Cell after\n",
    "ESC + B\n",
    "#New Cell before\n",
    "ESC + A"
   ]
  },
  {
   "cell_type": "code",
   "execution_count": 1,
   "id": "fb6d3ff7",
   "metadata": {},
   "outputs": [
    {
     "name": "stdout",
     "output_type": "stream",
     "text": [
      "hello\n"
     ]
    },
    {
     "data": {
      "text/plain": [
       "9"
      ]
     },
     "execution_count": 1,
     "metadata": {},
     "output_type": "execute_result"
    }
   ],
   "source": [
    "def hidden(string_thing,kwarg=9):\n",
    "    print('hello')\n",
    "    x = 5\n",
    "    if len(string_thing) > 6 :\n",
    "        return x\n",
    "    else:\n",
    "        return 9\n",
    "    print ('All done')\n",
    "    return 25\n",
    "hidden('ninety','four')"
   ]
  },
  {
   "cell_type": "code",
   "execution_count": 2,
   "id": "2108f0a6",
   "metadata": {},
   "outputs": [
    {
     "data": {
      "text/plain": [
       "<function __main__.<lambda>(x)>"
      ]
     },
     "execution_count": 2,
     "metadata": {},
     "output_type": "execute_result"
    }
   ],
   "source": [
    "lambda x:x+5"
   ]
  },
  {
   "cell_type": "code",
   "execution_count": null,
   "id": "78a1e4ae",
   "metadata": {},
   "outputs": [
    {
     "name": "stdout",
     "output_type": "stream",
     "text": [
      "Enter an odd number and it will be skiped (Within 50)\n",
      "1\n",
      "3\n",
      "5\n",
      "7\n",
      "9\n",
      "11\n",
      "13\n",
      "15\n",
      "17\n",
      "19\n",
      "21\n",
      "23\n",
      "25\n",
      "27\n",
      "29\n",
      "31\n",
      "33\n",
      "35\n",
      "37\n",
      "39\n",
      "41\n",
      "43\n",
      "45\n",
      "47\n",
      "49\n",
      "Go again?\n",
      "n\n"
     ]
    }
   ],
   "source": [
    "while True:\n",
    "    odd_input = input('Enter an odd number and it will be skiped (Within 50)\\n')\n",
    "    for r in range(1,51,2):\n",
    "            if odd_input.isdigit():\n",
    "                odd_input = int(odd_input)\n",
    "                if odd_input > 0 and odd_input < 50 and odd_input % 2 != 0:\n",
    "                    for r in range(1,51,2):\n",
    "                        if r == odd_input:\n",
    "                            continue\n",
    "                        else:\n",
    "                            print(r)\n",
    "                    response = input('Go again?\\n')\n",
    "                    if response.lower()[0] != 'y':\n",
    "                            break"
   ]
  },
  {
   "cell_type": "code",
   "execution_count": null,
   "id": "76492927",
   "metadata": {},
   "outputs": [],
   "source": []
  },
  {
   "cell_type": "code",
   "execution_count": null,
   "id": "3255f91f",
   "metadata": {},
   "outputs": [],
   "source": []
  },
  {
   "cell_type": "code",
   "execution_count": null,
   "id": "0191cc06",
   "metadata": {},
   "outputs": [],
   "source": []
  }
 ],
 "metadata": {
  "kernelspec": {
   "display_name": "Python 3 (ipykernel)",
   "language": "python",
   "name": "python3"
  },
  "language_info": {
   "codemirror_mode": {
    "name": "ipython",
    "version": 3
   },
   "file_extension": ".py",
   "mimetype": "text/x-python",
   "name": "python",
   "nbconvert_exporter": "python",
   "pygments_lexer": "ipython3",
   "version": "3.9.13"
  }
 },
 "nbformat": 4,
 "nbformat_minor": 5
}
