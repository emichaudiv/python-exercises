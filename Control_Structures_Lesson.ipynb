{
 "cells": [
  {
   "cell_type": "code",
   "execution_count": null,
   "id": "c452f2dc",
   "metadata": {},
   "outputs": [],
   "source": [
    "Monday_yes = input('Is today Monday?')\n",
    "if Monday_yes == \"Yes\" or Monday_yes == \"yes\": \n",
    "        print (\"Liar\")\n",
    "elif Monday_yes == \"No\" or Monday_yes == \"no\":\n",
    "    print (\"Thank you\")\n",
    "else:\n",
    "      print (\"Wrong input\")"
   ]
  },
  {
   "cell_type": "markdown",
   "id": "5337caa7",
   "metadata": {},
   "source": []
  }
 ],
 "metadata": {
  "kernelspec": {
   "display_name": "Python 3 (ipykernel)",
   "language": "python",
   "name": "python3"
  },
  "language_info": {
   "codemirror_mode": {
    "name": "ipython",
    "version": 3
   },
   "file_extension": ".py",
   "mimetype": "text/x-python",
   "name": "python",
   "nbconvert_exporter": "python",
   "pygments_lexer": "ipython3",
   "version": "3.9.13"
  }
 },
 "nbformat": 4,
 "nbformat_minor": 5
}
